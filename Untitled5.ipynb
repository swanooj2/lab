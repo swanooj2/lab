{
  "nbformat": 4,
  "nbformat_minor": 0,
  "metadata": {
    "colab": {
      "provenance": [],
      "authorship_tag": "ABX9TyMvx+XhW8FEy63hbPfjLLUX",
      "include_colab_link": true
    },
    "kernelspec": {
      "name": "python3",
      "display_name": "Python 3"
    },
    "language_info": {
      "name": "python"
    }
  },
  "cells": [
    {
      "cell_type": "markdown",
      "metadata": {
        "id": "view-in-github",
        "colab_type": "text"
      },
      "source": [
        "<a href=\"https://colab.research.google.com/github/swanooj2/lab/blob/main/Untitled5.ipynb\" target=\"_parent\"><img src=\"https://colab.research.google.com/assets/colab-badge.svg\" alt=\"Open In Colab\"/></a>"
      ]
    },
    {
      "cell_type": "code",
      "execution_count": 2,
      "metadata": {
        "colab": {
          "base_uri": "https://localhost:8080/"
        },
        "id": "ZvDyJyT1Kj1O",
        "outputId": "0190fae9-b9ef-433b-8e16-aaf7c20a7c08"
      },
      "outputs": [
        {
          "output_type": "stream",
          "name": "stdout",
          "text": [
            "Hardcoded Subtraction Result: 20 - 10 = 10\n"
          ]
        }
      ],
      "source": [
        "\n",
        "num1 = 20\n",
        "num2 = 10\n",
        "result = num1 - num2\n",
        "print(f\"Hardcoded Subtraction Result: {num1} - {num2} = {result}\")\n"
      ]
    },
    {
      "cell_type": "code",
      "source": [
        "\n",
        "num1 = float(input(\"Enter the first number: \"))\n",
        "num2 = float(input(\"Enter the second number: \"))\n",
        "result = num1 - num2\n",
        "print(f\"User Input Subtraction Result: {num1} - {num2} = {result}\")\n"
      ],
      "metadata": {
        "colab": {
          "base_uri": "https://localhost:8080/"
        },
        "id": "D0mFaMDOQpNd",
        "outputId": "9827ae09-9355-4418-9638-f6b46b4012c5"
      },
      "execution_count": 3,
      "outputs": [
        {
          "output_type": "stream",
          "name": "stdout",
          "text": [
            "Enter the first number: 7\n",
            "Enter the second number: 4\n",
            "User Input Subtraction Result: 7.0 - 4.0 = 3.0\n"
          ]
        }
      ]
    },
    {
      "cell_type": "code",
      "source": [
        "# Step 3: Read From File (Single Input)\n",
        "try:\n",
        "    with open('single_input.txt', 'r') as file:\n",
        "        data = file.readline().strip().split()\n",
        "        num1, num2 = float(data[0]), float(data[1])\n",
        "        result = num1 - num2\n",
        "        print(f\"File Input Subtraction Result: {num1} - {num2} = {result}\")\n",
        "except FileNotFoundError:\n",
        "    print(\"File not found. Please make sure the file exists.\")\n",
        "except Exception as e:\n",
        "    print(f\"An error occurred: {e}\")\n"
      ],
      "metadata": {
        "colab": {
          "base_uri": "https://localhost:8080/"
        },
        "id": "S-ap4ua_RiFq",
        "outputId": "d8dbf8ab-1e29-4d0e-f05c-d26a7b6b24e6"
      },
      "execution_count": 8,
      "outputs": [
        {
          "output_type": "stream",
          "name": "stdout",
          "text": [
            "File Input Subtraction Result: 30.0 - 5.0 = 25.0\n"
          ]
        }
      ]
    },
    {
      "cell_type": "code",
      "source": [
        "# Step 4: Read From File (Multiple Inputs)\n",
        "try:\n",
        "    with open('/content/multiple_inputs.txt', 'r') as file:\n",
        "        for line in file:\n",
        "            data = line.strip().split()\n",
        "            if len(data) == 2:\n",
        "                num1, num2 = float(data[0]), float(data[1])\n",
        "                result = num1 - num2\n",
        "                print(f\"File Input Subtraction Result: {num1} - {num2} = {result}\")\n",
        "            else:\n",
        "                print(f\"Invalid data format in line: {line}\")\n",
        "except FileNotFoundError:\n",
        "    print(\"File not found. Please make sure the file exists.\")\n",
        "except Exception as e:\n",
        "    print(f\"An error occurred: {e}\")\n"
      ],
      "metadata": {
        "colab": {
          "base_uri": "https://localhost:8080/"
        },
        "id": "BxwYXDyLU40r",
        "outputId": "8547e2cc-0628-466d-90e9-299a41456a9b"
      },
      "execution_count": 12,
      "outputs": [
        {
          "output_type": "stream",
          "name": "stdout",
          "text": [
            "File Input Subtraction Result: 5.0 - 4.0 = 1.0\n"
          ]
        }
      ]
    },
    {
      "cell_type": "code",
      "source": [
        "# Version 1 - Hardcoded Variables\n",
        "num1 = 20\n",
        "num2 = 10\n",
        "result = num1 - num2\n",
        "print(f\"Version 1: Hardcoded Subtraction Result: {num1} - {num2} = {result}\")\n",
        "\n",
        "# Version 2 - User Input\n",
        "num1 = float(input(\"Enter the first number: \"))\n",
        "num2 = float(input(\"Enter the second number: \"))\n",
        "result = num1 - num2\n",
        "print(f\"Version 2: User Input Subtraction Result: {num1} - {num2} = {result}\")\n"
      ],
      "metadata": {
        "colab": {
          "base_uri": "https://localhost:8080/"
        },
        "id": "myc2WwI4XChT",
        "outputId": "dbb65743-dc6a-4491-856a-b32397bb995f"
      },
      "execution_count": 13,
      "outputs": [
        {
          "output_type": "stream",
          "name": "stdout",
          "text": [
            "Version 1: Hardcoded Subtraction Result: 20 - 10 = 10\n",
            "Enter the first number: 5\n",
            "Enter the second number: 2\n",
            "Version 2: User Input Subtraction Result: 5.0 - 2.0 = 3.0\n"
          ]
        }
      ]
    },
    {
      "cell_type": "code",
      "source": [
        "# Error handling for file reading\n",
        "try:\n",
        "    # Try to open and read a file named 'missing_file.txt'\n",
        "    with open('/content/multiple_inputs.txt', 'r') as file:\n",
        "        data = file.read()\n",
        "        print(\"File contents:\", data)  # If the file is found, print the contents\n",
        "except FileNotFoundError:\n",
        "    # If the file is not found, handle the error and print a message\n",
        "    print(\"File 'missing_file.txt' not found. Make sure the file exists.\")\n",
        "except Exception as e:\n",
        "    # If any other error occurs, handle the error and print its details\n",
        "    print(f\"An unexpected error occurred: {e}\")\n"
      ],
      "metadata": {
        "colab": {
          "base_uri": "https://localhost:8080/"
        },
        "id": "8xzYJp6ZZ0mA",
        "outputId": "4caf4345-574e-45e9-8fdc-ae376fc37641"
      },
      "execution_count": 18,
      "outputs": [
        {
          "output_type": "stream",
          "name": "stdout",
          "text": [
            "File contents: 5 4\n"
          ]
        }
      ]
    }
  ]
}