{
  "nbformat": 4,
  "nbformat_minor": 0,
  "metadata": {
    "colab": {
      "provenance": [],
      "authorship_tag": "ABX9TyPG9U54ME3024YwRArifszC",
      "include_colab_link": true
    },
    "kernelspec": {
      "name": "python3",
      "display_name": "Python 3"
    },
    "language_info": {
      "name": "python"
    }
  },
  "cells": [
    {
      "cell_type": "markdown",
      "metadata": {
        "id": "view-in-github",
        "colab_type": "text"
      },
      "source": [
        "<a href=\"https://colab.research.google.com/github/swanooj2/lab/blob/main/Untitled7.ipynb\" target=\"_parent\"><img src=\"https://colab.research.google.com/assets/colab-badge.svg\" alt=\"Open In Colab\"/></a>"
      ]
    },
    {
      "cell_type": "code",
      "execution_count": 1,
      "metadata": {
        "colab": {
          "base_uri": "https://localhost:8080/"
        },
        "id": "x0eTZxcXqonr",
        "outputId": "2a5f5862-b0ed-42ba-c2ce-5c023e72cfd9"
      },
      "outputs": [
        {
          "output_type": "stream",
          "name": "stdout",
          "text": [
            "The weather value at 6 hours is: 36.0\n"
          ]
        }
      ],
      "source": [
        "# Define the quadratic equation coefficients for the weather model\n",
        "a = 0.5    # Coefficient for t^2\n",
        "b = -2     # Coefficient for t\n",
        "c = 30     # Constant term\n",
        "\n",
        "# Input: Time of day (hardcoded value)\n",
        "time_of_day = 6\n",
        "\n",
        "# Calculate weather value using the quadratic formula\n",
        "weather_value = a * time_of_day**2 + b * time_of_day + c\n",
        "\n",
        "# Output the weather value\n",
        "print(f\"The weather value at {time_of_day} hours is: {weather_value}\")"
      ]
    }
  ]
}